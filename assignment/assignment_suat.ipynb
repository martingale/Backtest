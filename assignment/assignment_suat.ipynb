{
 "cells": [
  {
   "cell_type": "code",
   "execution_count": 12,
   "metadata": {},
   "outputs": [],
   "source": [
    "# %time\n",
    "import pandas as pd\n",
    "import matplotlib.pyplot as plt\n",
    "import numpy\n",
    "######ASk ve Bid listlerindeki her bir componenti ayrı bir kolona alır\n",
    "data=pd.read_json(\"lob74196.json\")\n",
    "ask1=[]\n",
    "volask1=[]\n",
    "bid1=[]\n",
    "volbid1=[]\n",
    "ask2=[]\n",
    "volask2=[]\n",
    "bid2=[]\n",
    "volbid2=[]\n",
    "ask3=[]\n",
    "volask3=[]\n",
    "bid3=[]\n",
    "volbid3=[]\n",
    "ask4=[]\n",
    "volask4=[]\n",
    "bid4=[]\n",
    "volbid4=[]\n",
    "ask5=[]\n",
    "volask5=[]\n",
    "bid5=[]\n",
    "volbid5=[]\n",
    "c=0\n",
    "tahtaa=[ask1,volask1,ask2,volask2,ask3,volask3,ask4,volask4,ask5,volask5]\n",
    "\n",
    "for i in range(len(data[\"Ask\"])):\n",
    "    for j in range(len(data[\"Ask\"][i])):\n",
    "         for k in range(len(data[\"Ask\"][i][j])):\n",
    "                cg=c%10\n",
    "                tahtaa[cg].append(data[\"Ask\"][i][j][k])\n",
    "                c=c+1\n",
    "d=0\n",
    "\n",
    "tahtab=[bid1,volbid1,bid2,volbid2,bid3,volbid3,bid4,volbid4,bid5,volbid5]\n",
    "for i in range(len(data[\"Bid\"])):\n",
    "    for j in range(len(data[\"Bid\"][i])):\n",
    "         for k in range(len(data[\"Bid\"][i][j])):                \n",
    "                dg=d%10\n",
    "                tahtab[dg].append(data[\"Bid\"][i][j][k])\n",
    "                d=d+1\n",
    "                      \n",
    "                #print(data[\"Ask\"][i][j][k],\"\\n-------\")\n",
    "    #ask1.append(data[])\n",
    "    #volask1.append(ts[0][0][1])\n",
    "dft=pd.DataFrame({\"ASK1\":ask1,\"VOLASK1\":volask1,\"ASK2\":ask2,\"VOLASK2\":volask2,\"ASK3\":ask3,\"VOLASK3\":volask3,\"ASK4\":ask4,\"VOLASK4\":volask4,\"ASK5\":ask5,\"VOLASK5\":volask5,\"BID1\":bid1,\"VOLBID1\":volbid1,\"BID2\":bid2,\"VOLBID2\":volbid2,\"BID3\":bid3,\"VOLBID3\":volbid3,\"BID4\":bid4,\"VOLBID4\":volbid4,\"BID5\":bid5,\"VOLBID5\":volbid5})    \n",
    "######################################################################################################################################################\n",
    "###########MEsajlar bolumndekı gelen market orderları ayırır ve summarize eder (SaTIS /ALIS Nominalleri ,emir sayıları,Emir adetleri)\n",
    "arraybuy=[]\n",
    "arraysell=[]\n",
    "tekarray=[]\n",
    "for j in range(len(data[\"Messages\"])):\n",
    "    SumEB=0\n",
    "    SumES=0\n",
    "    NomEB=0\n",
    "    NomES=0\n",
    "    cseb=0\n",
    "    cses=0\n",
    "    for i in range(len(data[\"Messages\"][j])):\n",
    "        if data[\"Messages\"][j][i][0]==\"E\":\n",
    "            if data[\"Messages\"][j][i][1]==\"B\":\n",
    "                cseb=cseb+1\n",
    "                SumEB=SumEB+data[\"Messages\"][j][i][3]\n",
    "                NomEB=NomEB+(data[\"Messages\"][j][i][2]*data[\"Messages\"][j][i][3])       \n",
    "            \n",
    "            if data[\"Messages\"][j][i][1]==\"S\":\n",
    "                cses=cses+1\n",
    "                SumES=SumES+data[\"Messages\"][j][i][3] \n",
    "                NomES=NomES+(data[\"Messages\"][j][i][2]*data[\"Messages\"][j][i][3])\n",
    "    #[\"B\",cseb,SumEB,NomEB]##yemirönü ,kaç emir geldi ,kac qty,kac nominal\n",
    "    #[\"S\",cses,SumES,NomES]##yemirönü ,kaç emir geldi ,kac qty,kac nominal\n",
    "    BS=[cseb,SumEB,NomEB,cses,SumES,NomES,data[\"TimeStamp\"][j]]\n",
    "    tekarray.append(BS)\n",
    "############ASK BID MESSAGE ve TIME STAMP bolumlerını componentlerıne ayrılmıs bır sekılde tek dataframede toplar##################################################    \n",
    "df=pd.DataFrame(tekarray)\n",
    "df.columns=[\"BCount\",\"BQty\",\"BNOM\",\"SCount\",\"SQty\",\"SNOM\",\"TimeStamp\"]\n",
    "Data=dft.assign(BCount=df[\"BCount\"],BQty=df[\"BQty\"],BNOM=df[\"BNOM\"],SCount=df[\"SCount\"],SQty=df[\"SQty\"],SNOM=df[\"SNOM\"],TimeStamp=df[\"TimeStamp\"])\n",
    "#######################################################################################################################################\n",
    "##################MID PRICE,TAHTA NIN BUY SELL NEUTRAL DURUMLARINI TEMSIL EDEN ORANLARI  HESAPLAR\n",
    "DataVB=pd.DataFrame()\n",
    "Data=Data.assign(MID=(Data[\"ASK1\"]+Data[\"BID1\"])/2)\n",
    "DataVB=DataVB.assign(VB=Data[\"VOLASK1\"]+Data[\"VOLASK2\"]+Data[\"VOLASK3\"]+Data[\"VOLASK4\"]+Data[\"VOLASK5\"])  \n",
    "DataV=DataVB.assign(VS=Data[\"VOLBID1\"]+Data[\"VOLBID2\"]+Data[\"VOLBID3\"]+Data[\"VOLBID4\"]+Data[\"VOLBID5\"])\n",
    "DataV=DataV.assign(SNB=( (DataV[\"VB\"]-DataV[\"VS\"]) / (DataV[\"VB\"]+DataV[\"VS\"]) ) )\n",
    "Data=Data.assign(BNS =DataV[\"SNB\"],VB1=DataV[\"VB\"],VS1=DataV[\"VS\"])   \n",
    "del DataVB\n",
    "del DataV\n",
    "del dft\n",
    "del df\n",
    "arraybuy=[]\n",
    "arraysell=[]\n",
    "tekarray=[]\n",
    "data=[]\n",
    "tahtaa=[]\n",
    "tahtab=[]\n",
    "Data=Data.sort_values(by=['TimeStamp'])\n",
    "\n",
    "##################tİME sTAMPLERİ MİLİSECONDA DÖNÜŞTÜRÜR\n",
    "ms=0\n",
    "Msar=[]\n",
    "t=0\n",
    "dData=pd.DataFrame()\n",
    "for i in Data[\"TimeStamp\"]:\n",
    "    t=i-Data[\"TimeStamp\"][0]\n",
    "    ms=numpy.timedelta64(t,'ms')\n",
    "    Msar.append(ms)\n",
    "Data=Data.assign(MiliSec=Msar)    \n",
    "\n",
    "Msar=[]\n",
    "\n",
    "\n",
    "Data.loc[Data.SQty >0, 'sMSEC'] = Data[\"MiliSec\"]\n",
    "Data.loc[Data.SQty <=0, 'sMSEC'] = numpy.timedelta64(0,'ms')\n",
    "seri=[]\n",
    "for i in range(len(Data)):\n",
    "    seri.append(i)\n",
    "Data=Data.assign(ind=seri)    \n",
    "seri=[]"
   ]
  },
  {
   "cell_type": "code",
   "execution_count": 13,
   "metadata": {},
   "outputs": [
    {
     "data": {
      "text/plain": [
       "Index(['ASK1', 'VOLASK1', 'ASK2', 'VOLASK2', 'ASK3', 'VOLASK3', 'ASK4',\n",
       "       'VOLASK4', 'ASK5', 'VOLASK5', 'BID1', 'VOLBID1', 'BID2', 'VOLBID2',\n",
       "       'BID3', 'VOLBID3', 'BID4', 'VOLBID4', 'BID5', 'VOLBID5', 'BCount',\n",
       "       'BQty', 'BNOM', 'SCount', 'SQty', 'SNOM', 'TimeStamp', 'MID', 'BNS',\n",
       "       'VB1', 'VS1', 'MiliSec', 'sMSEC', 'ind'],\n",
       "      dtype='object')"
      ]
     },
     "execution_count": 13,
     "metadata": {},
     "output_type": "execute_result"
    }
   ],
   "source": [
    "Data.columns"
   ]
  },
  {
   "cell_type": "code",
   "execution_count": 16,
   "metadata": {},
   "outputs": [],
   "source": [
    "########Sell Orderların Geliş Zamanları MiliSecond Cinsinden\n",
    "c=0\n",
    "a1=[]\n",
    "a1array=[]\n",
    "t=numpy.timedelta64(0,'ms')\n",
    "t2=numpy.timedelta64(10,'ms')\n",
    "for i in Data[\"sMSEC\"]:\n",
    "    if i>t:\n",
    "        a1=[i,c]\n",
    "        #print(a1)\n",
    "        a1array.append(a1)    \n",
    "    c=c+1    \n",
    "\n",
    " "
   ]
  },
  {
   "cell_type": "code",
   "execution_count": 17,
   "metadata": {},
   "outputs": [],
   "source": [
    "\n",
    "###### Satış Emri Gelen tickerlden sonra ki 10 mili saniye içinde fiyat \n",
    "# neredeyse satıs emrinin geldiği satıra CP kolonuna Mid Price ı Yazar\n",
    "tt=numpy.timedelta64(10,'ms')\n",
    "close=[]\n",
    "closearray=[]\n",
    "for i,k in a1array:\n",
    "    cc=0\n",
    "    ca=0\n",
    "    for j in Data[\"MiliSec\"][k:]:\n",
    "        ca=ca+1\n",
    "        ck=k+ca\n",
    "        if j>i+tt and cc==0 :\n",
    "            close=[Data[\"MID\"][ck-1],k]\n",
    "            # print(i,j,j-i,k,Data[\"MID\"][ck-1],ck-1)\n",
    "            cc=1\n",
    "            break\n",
    "    closearray.append(close) \n",
    "ca=[]\n",
    "for i,j in closearray:\n",
    "    ca.append(i)\n",
    "####mıd prıcedakı degısımı bulur ve DELTA KOLONUNA YAZAR    \n",
    "df=Data.query(\"SQty>0\")\n",
    "df=df.assign(CP=ca)\n",
    "df=df.assign(Delta=((df[\"MID\"]-df[\"CP\"])))    \n",
    "ca=[]\n",
    "c=0\n",
    "a1=[]\n",
    "a1array=[]    "
   ]
  },
  {
   "cell_type": "code",
   "execution_count": 18,
   "metadata": {},
   "outputs": [
    {
     "data": {
      "text/plain": [
       "<matplotlib.axes._subplots.AxesSubplot at 0x1039ffa90>"
      ]
     },
     "execution_count": 18,
     "metadata": {},
     "output_type": "execute_result"
    },
    {
     "data": {
      "image/png": "[encoded data removed]",
      "text/plain": [
       "<Figure size 432x288 with 1 Axes>"
      ]
     },
     "metadata": {},
     "output_type": "display_data"
    }
   ],
   "source": [
    "####BNS>>>> BUY(>0.33) -NEUTRAL(<=-0.33 &  >=0.33)- SELL(<-0.33) DUrumlarını Temsıl EDER\n",
    "####DELTA>>> MID PRICE Degişimlerini Temsileder(KURUS CINSINDEN)\n",
    "### Tahtanın Buy-Neutral-Sell Durumlarında gelen satıs emirlerinden sonra MİD price  kac kurus hareket etmiş oldugunu gosterıyor\n",
    "df.plot(kind='scatter',x='BNS',y='Delta',color='purple',stacked=True)"
   ]
  },
  {
   "cell_type": "code",
   "execution_count": 19,
   "metadata": {},
   "outputs": [
    {
     "data": {
      "image/png": "[encoded data removed]",
      "text/plain": [
       "<Figure size 432x288 with 1 Axes>"
      ]
     },
     "metadata": {},
     "output_type": "display_data"
    }
   ],
   "source": [
    "####BNS>>>> BUY(>0.33) -NEUTRAL(<=-0.33 &  >=0.33)- SELL(<-0.33) DUrumlarını Temsıl EDER\n",
    "#########BNOM>>> GELEN ALIS EMIRLERININ NOMINALINI TEMSIL EDER\n",
    "##### Tahtanın Buy-Neutral-Sell Durumlarında gelen <<<ALIŞ>>> emirlerin Nominal Değerlerinin Dağılımları\n",
    "Data.plot(kind='scatter',x='BNS',y='BNOM',color='blue',stacked=True)\n",
    "plt.show()"
   ]
  },
  {
   "cell_type": "code",
   "execution_count": 20,
   "metadata": {},
   "outputs": [
    {
     "data": {
      "text/plain": [
       "<function matplotlib.pyplot.show(*args, **kw)>"
      ]
     },
     "execution_count": 20,
     "metadata": {},
     "output_type": "execute_result"
    },
    {
     "data": {
      "image/png": "[encoded data removed]",
      "text/plain": [
       "<Figure size 432x288 with 1 Axes>"
      ]
     },
     "metadata": {},
     "output_type": "display_data"
    }
   ],
   "source": [
    "####BNS>>>> BUY(>0.33) -NEUTRAL(<=-0.33 &  >=0.33)- SELL(<-0.33) DUrumlarını Temsıl EDER\n",
    "#########SNOM>>> GELEN SATIS EMIRLERININ NOMINALINI TEMSIL EDER\n",
    "##### Tahtanın Buy-Neutral-Sell Durumlarında gelen <<<SATIŞ>>> emirlerin Nominal Değerlerinin Dağılımları\n",
    "Data.plot(kind='scatter',x='BNS',y='SNOM',color='red',stacked=True)\n",
    "plt.show"
   ]
  }
 ],
 "metadata": {
  "kernelspec": {
   "display_name": "Python 3",
   "language": "python",
   "name": "python3"
  },
  "language_info": {
   "codemirror_mode": {
    "name": "ipython",
    "version": 3
   },
   "file_extension": ".py",
   "mimetype": "text/x-python",
   "name": "python",
   "nbconvert_exporter": "python",
   "pygments_lexer": "ipython3",
   "version": "3.7.3"
  }
 },
 "nbformat": 4,
 "nbformat_minor": 2
}
