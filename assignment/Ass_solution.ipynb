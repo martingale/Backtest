{
 "cells": [
  {
   "cell_type": "markdown",
   "metadata": {},
   "source": [
    "1- Consider a limit-order-book (LOB). At the LOB, we define the volume imbalance measure $\\rho_t$ as \n",
    "\\begin{equation*}\n",
    "\\rho_t = \\dfrac{V_t^b - V_t^a}{V_t^b + V_t^a} \\in [ -1,1]\n",
    "\\end{equation*}\n",
    "where $V_t^b $ and  $V_t^a $  are the volumes at time $t$ of limit orders outstanding at the best bid and the best ask price levels, consecutively. \n",
    "\n",
    "Further, let $S_t$ denote the state of the book at time $t$ and defined as \n",
    "$$\n",
    "S_t = \n",
    "\\begin{array}{llr}\n",
    "\\text{sell} & \\text{if}&  -1 \\leq  \\rho_t < -\\dfrac{1}{3} \\\\\n",
    "&&\\\\\n",
    "\\text{neutral}  & \\text{if}&  - \\dfrac{1}{3} \\leq \\rho_t \\leq \\dfrac{1}{3} \\\\\n",
    "&&\\\\\n",
    "\\text{buy} & \\text{if}&  \\frac{1}{3} <   \\rho_t \\leq 1 \\\\\n",
    "\\end{array} \n",
    "$$\n",
    "\n",
    "Find the distribution of the market sell orders and market buy orders among the states; ie, number of total market sell and buy orders for each state (sell, neutral, and buy states) for the whole day. "
   ]
  },
  {
   "cell_type": "code",
   "execution_count": 300,
   "metadata": {},
   "outputs": [],
   "source": [
    "import pandas as pd\n",
    "raw_df = pd.read_json('/Users/hrn/Downloads/lob74196.json')\n",
    "\n",
    "# Function that calculates the state of the book (Buy, Neutral, or Sell)\n",
    "# given the best bid and ask levels. In deed, we feed the whole dataframe row to the function \n",
    "\n",
    "def calc_state(row, th=1/3):\n",
    "    q_best_ask = row.Ask[0][1]\n",
    "    q_best_bid = row.Bid[0][1]\n",
    "    rho = (q_best_bid - q_best_ask) / (q_best_ask + q_best_bid)\n",
    "    if rho < -th:\n",
    "        ret = 'S'\n",
    "    elif rho < th:\n",
    "        ret = 'N'\n",
    "    else:\n",
    "        ret = 'B'\n",
    "    # print(rho, row.Bid[0], row.Ask[0])\n",
    "    return ret\n",
    "\n",
    "# The function below updates the total market order sizes in the relevant row and column\n",
    "# of the result matrix\n",
    "def add_to_mat(df, r, c, q):\n",
    "    df[r][c] +=q\n",
    "\n",
    "# This function returns the market order (mo) side of execution side\n",
    "# If execution is on Buy side then it is a Sell market order and vice versa.\n",
    "# Remember that itch data reports the execution side.\n",
    "def exec_to_mo(side):\n",
    "    if side=='S':\n",
    "        return 'B'\n",
    "    else:\n",
    "        return 'S'"
   ]
  },
  {
   "cell_type": "code",
   "execution_count": 297,
   "metadata": {},
   "outputs": [],
   "source": [
    "# The iterator that will iterate through the rows of the main Dataframe\n",
    "iter_raw = raw_df.itertuples()\n",
    "\n",
    "'''\n",
    "We initialize the following result matrix (in the form of a pandas Dataframe):\n",
    "\n",
    "       B    S\n",
    " ----------------\n",
    "  B |  0    0\n",
    "  N |  0    0\n",
    "  S |  0    0\n",
    "  \n",
    "\n",
    "The rows are states of the order book: B(uy), N(eutral), S(ell)\n",
    "The columns are the side of the market orders\n",
    "Therefore, the cells are the total number of market orders for the state and the side.\n",
    "'''\n",
    "res_mat = pd.DataFrame([[0] * 2] * 3,\n",
    "                  index= ['B', 'N', 'S'],\n",
    "                  columns=list('BS'))\n",
    "\n",
    "# The loop iterates through the rows of the main Dataframe.\n",
    "# It updates the result matrix if there is any E(xecution) message in the row.\n",
    "for i, row in enumerate(iter_raw):\n",
    "    if i == 0:\n",
    "        prev_row = row\n",
    "        continue\n",
    "    this_m = row.Messages\n",
    "    \n",
    "    for message in this_m:\n",
    "        if message[0]=='E':     # and message[3]>1000:\n",
    "            exec_side = message[1]\n",
    "            mo_side = exec_to_mo(exec_side)\n",
    "            q = message[2]\n",
    "            state = calc_state(prev_row, 2/3)\n",
    "            # print(side, q, state)\n",
    "            add_to_mat(res_mat, mo_side, state, q)\n",
    "    prev_row = row"
   ]
  },
  {
   "cell_type": "code",
   "execution_count": 298,
   "metadata": {},
   "outputs": [
    {
     "data": {
      "text/html": [
       "<div>\n",
       "<style scoped>\n",
       "    .dataframe tbody tr th:only-of-type {\n",
       "        vertical-align: middle;\n",
       "    }\n",
       "\n",
       "    .dataframe tbody tr th {\n",
       "        vertical-align: top;\n",
       "    }\n",
       "\n",
       "    .dataframe thead th {\n",
       "        text-align: right;\n",
       "    }\n",
       "</style>\n",
       "<table border=\"1\" class=\"dataframe\">\n",
       "  <thead>\n",
       "    <tr style=\"text-align: right;\">\n",
       "      <th></th>\n",
       "      <th>B</th>\n",
       "      <th>S</th>\n",
       "    </tr>\n",
       "  </thead>\n",
       "  <tbody>\n",
       "    <tr>\n",
       "      <th>B</th>\n",
       "      <td>11268</td>\n",
       "      <td>6147</td>\n",
       "    </tr>\n",
       "    <tr>\n",
       "      <th>N</th>\n",
       "      <td>109521</td>\n",
       "      <td>97830</td>\n",
       "    </tr>\n",
       "    <tr>\n",
       "      <th>S</th>\n",
       "      <td>5868</td>\n",
       "      <td>18162</td>\n",
       "    </tr>\n",
       "  </tbody>\n",
       "</table>\n",
       "</div>"
      ],
      "text/plain": [
       "        B      S\n",
       "B   11268   6147\n",
       "N  109521  97830\n",
       "S    5868  18162"
      ]
     },
     "execution_count": 298,
     "metadata": {},
     "output_type": "execute_result"
    }
   ],
   "source": [
    "# We just return the result matrix\n",
    "res_mat"
   ]
  },
  {
   "cell_type": "markdown",
   "metadata": {},
   "source": [
    "2- Find the distribution of the midprice change 10 miliseconds after the arrival of a sell market order among the states; ie, the number of ticks changed after arrival of a sell market order for each state (sell, neutral, and buy states)."
   ]
  },
  {
   "cell_type": "code",
   "execution_count": 328,
   "metadata": {},
   "outputs": [
    {
     "name": "stdout",
     "output_type": "stream",
     "text": [
      "(8150, 2)\n"
     ]
    },
    {
     "data": {
      "image/png": "[encoded data removed]",
      "text/plain": [
       "<Figure size 864x864 with 3 Axes>"
      ]
     },
     "metadata": {},
     "output_type": "display_data"
    }
   ],
   "source": [
    "%matplotlib inline\n",
    "# from scipy import stats\n",
    "import matplotlib.pyplot as plt\n",
    "iter_raw = raw_df.itertuples()\n",
    "\n",
    "# que is the queue vector. An item is added when a market sell order occurs \n",
    "# and the same item is popped >=10 ms later after the information is processed.\n",
    "# It holds the tuples (Timestamp, mid price, the state of LOB in the previous row)\n",
    "# observed for all sell market orders\n",
    "que = []\n",
    "res = [] # The result vector conatining (state, mid price diff) tuples\n",
    "\n",
    "for i, row in enumerate(iter_raw):\n",
    "    this_m = row.Messages\n",
    "    \n",
    "    if i <1: # Skip the first row \n",
    "        prev_row = row\n",
    "        continue\n",
    "    \n",
    "    for message in this_m:\n",
    "        if message[0:2]==['E','B']:\n",
    "            b_mid_price = (row.Ask[0][0] + row.Bid[0][0] ) * 0.5\n",
    "            que.append((row.TimeStamp, b_mid_price, calc_state(prev_row,1/3)))\n",
    "            break\n",
    "            \n",
    "    while que and row.TimeStamp - que[0][0] >= np.timedelta64(10,'ms'):\n",
    "        f_mid_price = (row.Ask[0][0] + row.Bid[0][0] ) * 0.5\n",
    "        state = que[0][2]\n",
    "        diff = f_mid_price - que[0][1]\n",
    "        res.append((state, diff))\n",
    "        que.pop(0)\n",
    "    prev_row = row\n",
    "\n",
    "df_res = pd.DataFrame(res,columns = ['state', 'dif'])\n",
    "# print(df_res.shape)\n",
    "df_res.sort_values(by=['state'], inplace=True)\n",
    "\n",
    "df_res.hist(by='state',  range=(-0.025, 0.025),bins=18, layout=(3,1), figsize=(12,12))\n",
    "pass\n",
    "# print(df_res.head())\n",
    "# mat = df_res.groupby('state').apply(lambda x: np.percentile(x.dif,[0,20,50,90,99,100]).round(4) )\n",
    "\n",
    "# mat = df_res.groupby('state').count()\n",
    "# pd.options.display.float_format = '${:,.2f}'.format\n",
    "# np.set_printoptions(precision=1)\n",
    "# print(mat)\n",
    "# df_res.groupby('state').apply(lambda x: plt.hist(x.dif, bins=18,range=(-0.02, 0.02),\n",
    "#                                                  histtype='step',align='left' ) )\n",
    "# fig = plt.gcf()\n",
    "# fig.set_size_inches(15,5)\n",
    "# plt.legend(('', 'B', 'N', 'S'))\n",
    "# "
   ]
  },
  {
   "cell_type": "code",
   "execution_count": null,
   "metadata": {},
   "outputs": [],
   "source": []
  }
 ],
 "metadata": {
  "kernelspec": {
   "display_name": "Python 3",
   "language": "python",
   "name": "python3"
  },
  "language_info": {
   "codemirror_mode": {
    "name": "ipython",
    "version": 3
   },
   "file_extension": ".py",
   "mimetype": "text/x-python",
   "name": "python",
   "nbconvert_exporter": "python",
   "pygments_lexer": "ipython3",
   "version": "3.7.3"
  }
 },
 "nbformat": 4,
 "nbformat_minor": 2
}
